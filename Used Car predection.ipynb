{
 "cells": [
  {
   "cell_type": "markdown",
   "id": "fc1370a6",
   "metadata": {},
   "source": [
    "# Used Car price Predictions"
   ]
  },
  {
   "cell_type": "markdown",
   "id": "3359e64e",
   "metadata": {},
   "source": [
    "#### Importing Libraries"
   ]
  },
  {
   "cell_type": "code",
   "execution_count": 1,
   "id": "a6e8c020",
   "metadata": {},
   "outputs": [],
   "source": [
    "import pandas as pd\n",
    "import numpy as np\n",
    "import seaborn as sns\n",
    "from sklearn.preprocessing import LabelEncoder\n",
    "sns.set(rc={'figure.figsize': [15, 9]}, font_scale=1.3)\n",
    "import matplotlib.pyplot as plt\n",
    "from sklearn.linear_model import LinearRegression\n",
    "from sklearn.linear_model import Ridge\n",
    "from sklearn.tree import DecisionTreeRegressor\n",
    "from sklearn.ensemble import RandomForestRegressor\n",
    "from sklearn.model_selection import train_test_split\n",
    "from datetime import datetime\n",
    "from sklearn.metrics import mean_squared_error\n",
    "from sklearn.metrics import mean_absolute_error\n",
    "from sklearn.metrics import r2_score\n",
    "from sklearn.model_selection import RandomizedSearchCV"
   ]
  },
  {
   "cell_type": "markdown",
   "id": "53764836",
   "metadata": {},
   "source": [
    "## Loading the Used car prices and data"
   ]
  },
  {
   "cell_type": "markdown",
   "id": "8ebd5298",
   "metadata": {},
   "source": [
    "### Data Exploration"
   ]
  },
  {
   "cell_type": "code",
   "execution_count": 2,
   "id": "13d9f837",
   "metadata": {},
   "outputs": [],
   "source": [
    "df = pd.read_csv('autos.csv')"
   ]
  },
  {
   "cell_type": "code",
   "execution_count": 3,
   "id": "afdb955c",
   "metadata": {},
   "outputs": [
    {
     "data": {
      "text/html": [
       "<div>\n",
       "<style scoped>\n",
       "    .dataframe tbody tr th:only-of-type {\n",
       "        vertical-align: middle;\n",
       "    }\n",
       "\n",
       "    .dataframe tbody tr th {\n",
       "        vertical-align: top;\n",
       "    }\n",
       "\n",
       "    .dataframe thead th {\n",
       "        text-align: right;\n",
       "    }\n",
       "</style>\n",
       "<table border=\"1\" class=\"dataframe\">\n",
       "  <thead>\n",
       "    <tr style=\"text-align: right;\">\n",
       "      <th></th>\n",
       "      <th>index</th>\n",
       "      <th>dateCrawled</th>\n",
       "      <th>name</th>\n",
       "      <th>seller</th>\n",
       "      <th>offerType</th>\n",
       "      <th>price</th>\n",
       "      <th>abtest</th>\n",
       "      <th>vehicleType</th>\n",
       "      <th>yearOfRegistration</th>\n",
       "      <th>gearbox</th>\n",
       "      <th>...</th>\n",
       "      <th>model</th>\n",
       "      <th>kilometer</th>\n",
       "      <th>monthOfRegistration</th>\n",
       "      <th>fuelType</th>\n",
       "      <th>brand</th>\n",
       "      <th>notRepairedDamage</th>\n",
       "      <th>dateCreated</th>\n",
       "      <th>nrOfPictures</th>\n",
       "      <th>postalCode</th>\n",
       "      <th>lastSeen</th>\n",
       "    </tr>\n",
       "  </thead>\n",
       "  <tbody>\n",
       "    <tr>\n",
       "      <th>0</th>\n",
       "      <td>0</td>\n",
       "      <td>2016-03-24 11:52:17</td>\n",
       "      <td>Golf_3_1.6</td>\n",
       "      <td>privat</td>\n",
       "      <td>Angebot</td>\n",
       "      <td>480</td>\n",
       "      <td>test</td>\n",
       "      <td>NaN</td>\n",
       "      <td>1993</td>\n",
       "      <td>manuell</td>\n",
       "      <td>...</td>\n",
       "      <td>golf</td>\n",
       "      <td>150000</td>\n",
       "      <td>0</td>\n",
       "      <td>benzin</td>\n",
       "      <td>volkswagen</td>\n",
       "      <td>NaN</td>\n",
       "      <td>2016-03-24 00:00:00</td>\n",
       "      <td>0</td>\n",
       "      <td>70435</td>\n",
       "      <td>2016-04-07 03:16:57</td>\n",
       "    </tr>\n",
       "    <tr>\n",
       "      <th>1</th>\n",
       "      <td>1</td>\n",
       "      <td>2016-03-24 10:58:45</td>\n",
       "      <td>A5_Sportback_2.7_Tdi</td>\n",
       "      <td>privat</td>\n",
       "      <td>Angebot</td>\n",
       "      <td>18300</td>\n",
       "      <td>test</td>\n",
       "      <td>coupe</td>\n",
       "      <td>2011</td>\n",
       "      <td>manuell</td>\n",
       "      <td>...</td>\n",
       "      <td>NaN</td>\n",
       "      <td>125000</td>\n",
       "      <td>5</td>\n",
       "      <td>diesel</td>\n",
       "      <td>audi</td>\n",
       "      <td>ja</td>\n",
       "      <td>2016-03-24 00:00:00</td>\n",
       "      <td>0</td>\n",
       "      <td>66954</td>\n",
       "      <td>2016-04-07 01:46:50</td>\n",
       "    </tr>\n",
       "    <tr>\n",
       "      <th>2</th>\n",
       "      <td>2</td>\n",
       "      <td>2016-03-14 12:52:21</td>\n",
       "      <td>Jeep_Grand_Cherokee_\"Overland\"</td>\n",
       "      <td>privat</td>\n",
       "      <td>Angebot</td>\n",
       "      <td>9800</td>\n",
       "      <td>test</td>\n",
       "      <td>suv</td>\n",
       "      <td>2004</td>\n",
       "      <td>automatik</td>\n",
       "      <td>...</td>\n",
       "      <td>grand</td>\n",
       "      <td>125000</td>\n",
       "      <td>8</td>\n",
       "      <td>diesel</td>\n",
       "      <td>jeep</td>\n",
       "      <td>NaN</td>\n",
       "      <td>2016-03-14 00:00:00</td>\n",
       "      <td>0</td>\n",
       "      <td>90480</td>\n",
       "      <td>2016-04-05 12:47:46</td>\n",
       "    </tr>\n",
       "    <tr>\n",
       "      <th>3</th>\n",
       "      <td>3</td>\n",
       "      <td>2016-03-17 16:54:04</td>\n",
       "      <td>GOLF_4_1_4__3TÜRER</td>\n",
       "      <td>privat</td>\n",
       "      <td>Angebot</td>\n",
       "      <td>1500</td>\n",
       "      <td>test</td>\n",
       "      <td>kleinwagen</td>\n",
       "      <td>2001</td>\n",
       "      <td>manuell</td>\n",
       "      <td>...</td>\n",
       "      <td>golf</td>\n",
       "      <td>150000</td>\n",
       "      <td>6</td>\n",
       "      <td>benzin</td>\n",
       "      <td>volkswagen</td>\n",
       "      <td>nein</td>\n",
       "      <td>2016-03-17 00:00:00</td>\n",
       "      <td>0</td>\n",
       "      <td>91074</td>\n",
       "      <td>2016-03-17 17:40:17</td>\n",
       "    </tr>\n",
       "    <tr>\n",
       "      <th>4</th>\n",
       "      <td>4</td>\n",
       "      <td>2016-03-31 17:25:20</td>\n",
       "      <td>Skoda_Fabia_1.4_TDI_PD_Classic</td>\n",
       "      <td>privat</td>\n",
       "      <td>Angebot</td>\n",
       "      <td>3600</td>\n",
       "      <td>test</td>\n",
       "      <td>kleinwagen</td>\n",
       "      <td>2008</td>\n",
       "      <td>manuell</td>\n",
       "      <td>...</td>\n",
       "      <td>fabia</td>\n",
       "      <td>90000</td>\n",
       "      <td>7</td>\n",
       "      <td>diesel</td>\n",
       "      <td>skoda</td>\n",
       "      <td>nein</td>\n",
       "      <td>2016-03-31 00:00:00</td>\n",
       "      <td>0</td>\n",
       "      <td>60437</td>\n",
       "      <td>2016-04-06 10:17:21</td>\n",
       "    </tr>\n",
       "  </tbody>\n",
       "</table>\n",
       "<p>5 rows × 21 columns</p>\n",
       "</div>"
      ],
      "text/plain": [
       "   index          dateCrawled                            name  seller  \\\n",
       "0      0  2016-03-24 11:52:17                      Golf_3_1.6  privat   \n",
       "1      1  2016-03-24 10:58:45            A5_Sportback_2.7_Tdi  privat   \n",
       "2      2  2016-03-14 12:52:21  Jeep_Grand_Cherokee_\"Overland\"  privat   \n",
       "3      3  2016-03-17 16:54:04              GOLF_4_1_4__3TÜRER  privat   \n",
       "4      4  2016-03-31 17:25:20  Skoda_Fabia_1.4_TDI_PD_Classic  privat   \n",
       "\n",
       "  offerType  price abtest vehicleType  yearOfRegistration    gearbox  ...  \\\n",
       "0   Angebot    480   test         NaN                1993    manuell  ...   \n",
       "1   Angebot  18300   test       coupe                2011    manuell  ...   \n",
       "2   Angebot   9800   test         suv                2004  automatik  ...   \n",
       "3   Angebot   1500   test  kleinwagen                2001    manuell  ...   \n",
       "4   Angebot   3600   test  kleinwagen                2008    manuell  ...   \n",
       "\n",
       "   model kilometer  monthOfRegistration  fuelType       brand  \\\n",
       "0   golf    150000                    0    benzin  volkswagen   \n",
       "1    NaN    125000                    5    diesel        audi   \n",
       "2  grand    125000                    8    diesel        jeep   \n",
       "3   golf    150000                    6    benzin  volkswagen   \n",
       "4  fabia     90000                    7    diesel       skoda   \n",
       "\n",
       "  notRepairedDamage          dateCreated nrOfPictures  postalCode  \\\n",
       "0               NaN  2016-03-24 00:00:00            0       70435   \n",
       "1                ja  2016-03-24 00:00:00            0       66954   \n",
       "2               NaN  2016-03-14 00:00:00            0       90480   \n",
       "3              nein  2016-03-17 00:00:00            0       91074   \n",
       "4              nein  2016-03-31 00:00:00            0       60437   \n",
       "\n",
       "              lastSeen  \n",
       "0  2016-04-07 03:16:57  \n",
       "1  2016-04-07 01:46:50  \n",
       "2  2016-04-05 12:47:46  \n",
       "3  2016-03-17 17:40:17  \n",
       "4  2016-04-06 10:17:21  \n",
       "\n",
       "[5 rows x 21 columns]"
      ]
     },
     "execution_count": 3,
     "metadata": {},
     "output_type": "execute_result"
    }
   ],
   "source": [
    "df.head()"
   ]
  },
  {
   "cell_type": "code",
   "execution_count": 4,
   "id": "7fcdb617",
   "metadata": {},
   "outputs": [
    {
     "name": "stdout",
     "output_type": "stream",
     "text": [
      "<class 'pandas.core.frame.DataFrame'>\n",
      "RangeIndex: 371528 entries, 0 to 371527\n",
      "Data columns (total 21 columns):\n",
      " #   Column               Non-Null Count   Dtype \n",
      "---  ------               --------------   ----- \n",
      " 0   index                371528 non-null  int64 \n",
      " 1   dateCrawled          371528 non-null  object\n",
      " 2   name                 371528 non-null  object\n",
      " 3   seller               371528 non-null  object\n",
      " 4   offerType            371528 non-null  object\n",
      " 5   price                371528 non-null  int64 \n",
      " 6   abtest               371528 non-null  object\n",
      " 7   vehicleType          333659 non-null  object\n",
      " 8   yearOfRegistration   371528 non-null  int64 \n",
      " 9   gearbox              351319 non-null  object\n",
      " 10  powerPS              371528 non-null  int64 \n",
      " 11  model                351044 non-null  object\n",
      " 12  kilometer            371528 non-null  int64 \n",
      " 13  monthOfRegistration  371528 non-null  int64 \n",
      " 14  fuelType             338142 non-null  object\n",
      " 15  brand                371528 non-null  object\n",
      " 16  notRepairedDamage    299468 non-null  object\n",
      " 17  dateCreated          371528 non-null  object\n",
      " 18  nrOfPictures         371528 non-null  int64 \n",
      " 19  postalCode           371528 non-null  int64 \n",
      " 20  lastSeen             371528 non-null  object\n",
      "dtypes: int64(8), object(13)\n",
      "memory usage: 59.5+ MB\n"
     ]
    }
   ],
   "source": [
    "df.info()"
   ]
  },
  {
   "cell_type": "markdown",
   "id": "4a92013c",
   "metadata": {},
   "source": [
    "### Outliners Checking for numerical Columns"
   ]
  },
  {
   "cell_type": "code",
   "execution_count": 5,
   "id": "3ddbc0d2",
   "metadata": {},
   "outputs": [
    {
     "data": {
      "text/html": [
       "<div>\n",
       "<style scoped>\n",
       "    .dataframe tbody tr th:only-of-type {\n",
       "        vertical-align: middle;\n",
       "    }\n",
       "\n",
       "    .dataframe tbody tr th {\n",
       "        vertical-align: top;\n",
       "    }\n",
       "\n",
       "    .dataframe thead th {\n",
       "        text-align: right;\n",
       "    }\n",
       "</style>\n",
       "<table border=\"1\" class=\"dataframe\">\n",
       "  <thead>\n",
       "    <tr style=\"text-align: right;\">\n",
       "      <th></th>\n",
       "      <th>count</th>\n",
       "      <th>mean</th>\n",
       "      <th>std</th>\n",
       "      <th>min</th>\n",
       "      <th>25%</th>\n",
       "      <th>50%</th>\n",
       "      <th>75%</th>\n",
       "      <th>max</th>\n",
       "    </tr>\n",
       "  </thead>\n",
       "  <tbody>\n",
       "    <tr>\n",
       "      <th>index</th>\n",
       "      <td>371528.0</td>\n",
       "      <td>185763.500000</td>\n",
       "      <td>1.072510e+05</td>\n",
       "      <td>0.0</td>\n",
       "      <td>92881.75</td>\n",
       "      <td>185763.5</td>\n",
       "      <td>278645.25</td>\n",
       "      <td>3.715270e+05</td>\n",
       "    </tr>\n",
       "    <tr>\n",
       "      <th>price</th>\n",
       "      <td>371528.0</td>\n",
       "      <td>17295.141865</td>\n",
       "      <td>3.587954e+06</td>\n",
       "      <td>0.0</td>\n",
       "      <td>1150.00</td>\n",
       "      <td>2950.0</td>\n",
       "      <td>7200.00</td>\n",
       "      <td>2.147484e+09</td>\n",
       "    </tr>\n",
       "    <tr>\n",
       "      <th>yearOfRegistration</th>\n",
       "      <td>371528.0</td>\n",
       "      <td>2004.577997</td>\n",
       "      <td>9.286660e+01</td>\n",
       "      <td>1000.0</td>\n",
       "      <td>1999.00</td>\n",
       "      <td>2003.0</td>\n",
       "      <td>2008.00</td>\n",
       "      <td>9.999000e+03</td>\n",
       "    </tr>\n",
       "    <tr>\n",
       "      <th>powerPS</th>\n",
       "      <td>371528.0</td>\n",
       "      <td>115.549477</td>\n",
       "      <td>1.921396e+02</td>\n",
       "      <td>0.0</td>\n",
       "      <td>70.00</td>\n",
       "      <td>105.0</td>\n",
       "      <td>150.00</td>\n",
       "      <td>2.000000e+04</td>\n",
       "    </tr>\n",
       "    <tr>\n",
       "      <th>kilometer</th>\n",
       "      <td>371528.0</td>\n",
       "      <td>125618.688228</td>\n",
       "      <td>4.011234e+04</td>\n",
       "      <td>5000.0</td>\n",
       "      <td>125000.00</td>\n",
       "      <td>150000.0</td>\n",
       "      <td>150000.00</td>\n",
       "      <td>1.500000e+05</td>\n",
       "    </tr>\n",
       "    <tr>\n",
       "      <th>monthOfRegistration</th>\n",
       "      <td>371528.0</td>\n",
       "      <td>5.734445</td>\n",
       "      <td>3.712412e+00</td>\n",
       "      <td>0.0</td>\n",
       "      <td>3.00</td>\n",
       "      <td>6.0</td>\n",
       "      <td>9.00</td>\n",
       "      <td>1.200000e+01</td>\n",
       "    </tr>\n",
       "    <tr>\n",
       "      <th>nrOfPictures</th>\n",
       "      <td>371528.0</td>\n",
       "      <td>0.000000</td>\n",
       "      <td>0.000000e+00</td>\n",
       "      <td>0.0</td>\n",
       "      <td>0.00</td>\n",
       "      <td>0.0</td>\n",
       "      <td>0.00</td>\n",
       "      <td>0.000000e+00</td>\n",
       "    </tr>\n",
       "    <tr>\n",
       "      <th>postalCode</th>\n",
       "      <td>371528.0</td>\n",
       "      <td>50820.667640</td>\n",
       "      <td>2.579908e+04</td>\n",
       "      <td>1067.0</td>\n",
       "      <td>30459.00</td>\n",
       "      <td>49610.0</td>\n",
       "      <td>71546.00</td>\n",
       "      <td>9.999800e+04</td>\n",
       "    </tr>\n",
       "  </tbody>\n",
       "</table>\n",
       "</div>"
      ],
      "text/plain": [
       "                        count           mean           std     min        25%  \\\n",
       "index                371528.0  185763.500000  1.072510e+05     0.0   92881.75   \n",
       "price                371528.0   17295.141865  3.587954e+06     0.0    1150.00   \n",
       "yearOfRegistration   371528.0    2004.577997  9.286660e+01  1000.0    1999.00   \n",
       "powerPS              371528.0     115.549477  1.921396e+02     0.0      70.00   \n",
       "kilometer            371528.0  125618.688228  4.011234e+04  5000.0  125000.00   \n",
       "monthOfRegistration  371528.0       5.734445  3.712412e+00     0.0       3.00   \n",
       "nrOfPictures         371528.0       0.000000  0.000000e+00     0.0       0.00   \n",
       "postalCode           371528.0   50820.667640  2.579908e+04  1067.0   30459.00   \n",
       "\n",
       "                          50%        75%           max  \n",
       "index                185763.5  278645.25  3.715270e+05  \n",
       "price                  2950.0    7200.00  2.147484e+09  \n",
       "yearOfRegistration     2003.0    2008.00  9.999000e+03  \n",
       "powerPS                 105.0     150.00  2.000000e+04  \n",
       "kilometer            150000.0  150000.00  1.500000e+05  \n",
       "monthOfRegistration       6.0       9.00  1.200000e+01  \n",
       "nrOfPictures              0.0       0.00  0.000000e+00  \n",
       "postalCode            49610.0   71546.00  9.999800e+04  "
      ]
     },
     "execution_count": 5,
     "metadata": {},
     "output_type": "execute_result"
    }
   ],
   "source": [
    "df.describe().T"
   ]
  },
  {
   "cell_type": "markdown",
   "id": "079f3315",
   "metadata": {},
   "source": [
    "### Checking Columns that are mostly are the same value\n",
    "_this means they won't really increase the prediction of the model, they would only worsen it_"
   ]
  },
  {
   "cell_type": "code",
   "execution_count": 6,
   "id": "89dc3284",
   "metadata": {},
   "outputs": [
    {
     "data": {
      "text/html": [
       "<div>\n",
       "<style scoped>\n",
       "    .dataframe tbody tr th:only-of-type {\n",
       "        vertical-align: middle;\n",
       "    }\n",
       "\n",
       "    .dataframe tbody tr th {\n",
       "        vertical-align: top;\n",
       "    }\n",
       "\n",
       "    .dataframe thead th {\n",
       "        text-align: right;\n",
       "    }\n",
       "</style>\n",
       "<table border=\"1\" class=\"dataframe\">\n",
       "  <thead>\n",
       "    <tr style=\"text-align: right;\">\n",
       "      <th></th>\n",
       "      <th>count</th>\n",
       "      <th>unique</th>\n",
       "      <th>top</th>\n",
       "      <th>freq</th>\n",
       "    </tr>\n",
       "  </thead>\n",
       "  <tbody>\n",
       "    <tr>\n",
       "      <th>dateCrawled</th>\n",
       "      <td>371528</td>\n",
       "      <td>280500</td>\n",
       "      <td>2016-03-24 14:49:47</td>\n",
       "      <td>7</td>\n",
       "    </tr>\n",
       "    <tr>\n",
       "      <th>name</th>\n",
       "      <td>371528</td>\n",
       "      <td>233531</td>\n",
       "      <td>Ford_Fiesta</td>\n",
       "      <td>657</td>\n",
       "    </tr>\n",
       "    <tr>\n",
       "      <th>seller</th>\n",
       "      <td>371528</td>\n",
       "      <td>2</td>\n",
       "      <td>privat</td>\n",
       "      <td>371525</td>\n",
       "    </tr>\n",
       "    <tr>\n",
       "      <th>offerType</th>\n",
       "      <td>371528</td>\n",
       "      <td>2</td>\n",
       "      <td>Angebot</td>\n",
       "      <td>371516</td>\n",
       "    </tr>\n",
       "    <tr>\n",
       "      <th>abtest</th>\n",
       "      <td>371528</td>\n",
       "      <td>2</td>\n",
       "      <td>test</td>\n",
       "      <td>192585</td>\n",
       "    </tr>\n",
       "    <tr>\n",
       "      <th>vehicleType</th>\n",
       "      <td>333659</td>\n",
       "      <td>8</td>\n",
       "      <td>limousine</td>\n",
       "      <td>95894</td>\n",
       "    </tr>\n",
       "    <tr>\n",
       "      <th>gearbox</th>\n",
       "      <td>351319</td>\n",
       "      <td>2</td>\n",
       "      <td>manuell</td>\n",
       "      <td>274214</td>\n",
       "    </tr>\n",
       "    <tr>\n",
       "      <th>model</th>\n",
       "      <td>351044</td>\n",
       "      <td>251</td>\n",
       "      <td>golf</td>\n",
       "      <td>30070</td>\n",
       "    </tr>\n",
       "    <tr>\n",
       "      <th>fuelType</th>\n",
       "      <td>338142</td>\n",
       "      <td>7</td>\n",
       "      <td>benzin</td>\n",
       "      <td>223857</td>\n",
       "    </tr>\n",
       "    <tr>\n",
       "      <th>brand</th>\n",
       "      <td>371528</td>\n",
       "      <td>40</td>\n",
       "      <td>volkswagen</td>\n",
       "      <td>79640</td>\n",
       "    </tr>\n",
       "    <tr>\n",
       "      <th>notRepairedDamage</th>\n",
       "      <td>299468</td>\n",
       "      <td>2</td>\n",
       "      <td>nein</td>\n",
       "      <td>263182</td>\n",
       "    </tr>\n",
       "    <tr>\n",
       "      <th>dateCreated</th>\n",
       "      <td>371528</td>\n",
       "      <td>114</td>\n",
       "      <td>2016-04-03 00:00:00</td>\n",
       "      <td>14450</td>\n",
       "    </tr>\n",
       "    <tr>\n",
       "      <th>lastSeen</th>\n",
       "      <td>371528</td>\n",
       "      <td>182806</td>\n",
       "      <td>2016-04-07 06:45:59</td>\n",
       "      <td>17</td>\n",
       "    </tr>\n",
       "  </tbody>\n",
       "</table>\n",
       "</div>"
      ],
      "text/plain": [
       "                    count  unique                  top    freq\n",
       "dateCrawled        371528  280500  2016-03-24 14:49:47       7\n",
       "name               371528  233531          Ford_Fiesta     657\n",
       "seller             371528       2               privat  371525\n",
       "offerType          371528       2              Angebot  371516\n",
       "abtest             371528       2                 test  192585\n",
       "vehicleType        333659       8            limousine   95894\n",
       "gearbox            351319       2              manuell  274214\n",
       "model              351044     251                 golf   30070\n",
       "fuelType           338142       7               benzin  223857\n",
       "brand              371528      40           volkswagen   79640\n",
       "notRepairedDamage  299468       2                 nein  263182\n",
       "dateCreated        371528     114  2016-04-03 00:00:00   14450\n",
       "lastSeen           371528  182806  2016-04-07 06:45:59      17"
      ]
     },
     "execution_count": 6,
     "metadata": {},
     "output_type": "execute_result"
    }
   ],
   "source": [
    "df.describe(include='O').T"
   ]
  },
  {
   "cell_type": "markdown",
   "id": "c77d95ad",
   "metadata": {},
   "source": [
    "### Checking for Null values and Duplications and removing them"
   ]
  },
  {
   "cell_type": "code",
   "execution_count": 7,
   "id": "047c2616",
   "metadata": {},
   "outputs": [
    {
     "data": {
      "text/plain": [
       "index                      0\n",
       "dateCrawled                0\n",
       "name                       0\n",
       "seller                     0\n",
       "offerType                  0\n",
       "price                      0\n",
       "abtest                     0\n",
       "vehicleType            37869\n",
       "yearOfRegistration         0\n",
       "gearbox                20209\n",
       "powerPS                    0\n",
       "model                  20484\n",
       "kilometer                  0\n",
       "monthOfRegistration        0\n",
       "fuelType               33386\n",
       "brand                      0\n",
       "notRepairedDamage      72060\n",
       "dateCreated                0\n",
       "nrOfPictures               0\n",
       "postalCode                 0\n",
       "lastSeen                   0\n",
       "dtype: int64"
      ]
     },
     "execution_count": 7,
     "metadata": {},
     "output_type": "execute_result"
    }
   ],
   "source": [
    "df.isnull().sum()"
   ]
  },
  {
   "cell_type": "code",
   "execution_count": 8,
   "id": "ab5edc81",
   "metadata": {},
   "outputs": [
    {
     "data": {
      "text/plain": [
       "0"
      ]
     },
     "execution_count": 8,
     "metadata": {},
     "output_type": "execute_result"
    }
   ],
   "source": [
    "df.duplicated().sum()"
   ]
  },
  {
   "cell_type": "code",
   "execution_count": 9,
   "id": "9a99eb0d",
   "metadata": {},
   "outputs": [],
   "source": [
    "df.dropna(inplace=True)"
   ]
  },
  {
   "cell_type": "code",
   "execution_count": 10,
   "id": "1c539b88",
   "metadata": {},
   "outputs": [
    {
     "data": {
      "text/plain": [
       "index                  0\n",
       "dateCrawled            0\n",
       "name                   0\n",
       "seller                 0\n",
       "offerType              0\n",
       "price                  0\n",
       "abtest                 0\n",
       "vehicleType            0\n",
       "yearOfRegistration     0\n",
       "gearbox                0\n",
       "powerPS                0\n",
       "model                  0\n",
       "kilometer              0\n",
       "monthOfRegistration    0\n",
       "fuelType               0\n",
       "brand                  0\n",
       "notRepairedDamage      0\n",
       "dateCreated            0\n",
       "nrOfPictures           0\n",
       "postalCode             0\n",
       "lastSeen               0\n",
       "dtype: int64"
      ]
     },
     "execution_count": 10,
     "metadata": {},
     "output_type": "execute_result"
    }
   ],
   "source": [
    "df.isnull().sum()"
   ]
  },
  {
   "cell_type": "markdown",
   "id": "84b88412",
   "metadata": {},
   "source": [
    "### Taking a look on object type Columns\n",
    "_to see which I will remove and which I will preprocess_"
   ]
  },
  {
   "cell_type": "code",
   "execution_count": 11,
   "id": "e54fe814",
   "metadata": {},
   "outputs": [
    {
     "data": {
      "text/html": [
       "<div>\n",
       "<style scoped>\n",
       "    .dataframe tbody tr th:only-of-type {\n",
       "        vertical-align: middle;\n",
       "    }\n",
       "\n",
       "    .dataframe tbody tr th {\n",
       "        vertical-align: top;\n",
       "    }\n",
       "\n",
       "    .dataframe thead th {\n",
       "        text-align: right;\n",
       "    }\n",
       "</style>\n",
       "<table border=\"1\" class=\"dataframe\">\n",
       "  <thead>\n",
       "    <tr style=\"text-align: right;\">\n",
       "      <th></th>\n",
       "      <th>count</th>\n",
       "      <th>unique</th>\n",
       "      <th>top</th>\n",
       "      <th>freq</th>\n",
       "    </tr>\n",
       "  </thead>\n",
       "  <tbody>\n",
       "    <tr>\n",
       "      <th>dateCrawled</th>\n",
       "      <td>260956</td>\n",
       "      <td>213628</td>\n",
       "      <td>2016-03-08 15:50:29</td>\n",
       "      <td>5</td>\n",
       "    </tr>\n",
       "    <tr>\n",
       "      <th>name</th>\n",
       "      <td>260956</td>\n",
       "      <td>150361</td>\n",
       "      <td>BMW_318i</td>\n",
       "      <td>619</td>\n",
       "    </tr>\n",
       "    <tr>\n",
       "      <th>seller</th>\n",
       "      <td>260956</td>\n",
       "      <td>2</td>\n",
       "      <td>privat</td>\n",
       "      <td>260954</td>\n",
       "    </tr>\n",
       "    <tr>\n",
       "      <th>offerType</th>\n",
       "      <td>260956</td>\n",
       "      <td>2</td>\n",
       "      <td>Angebot</td>\n",
       "      <td>260952</td>\n",
       "    </tr>\n",
       "    <tr>\n",
       "      <th>abtest</th>\n",
       "      <td>260956</td>\n",
       "      <td>2</td>\n",
       "      <td>test</td>\n",
       "      <td>135518</td>\n",
       "    </tr>\n",
       "    <tr>\n",
       "      <th>vehicleType</th>\n",
       "      <td>260956</td>\n",
       "      <td>8</td>\n",
       "      <td>limousine</td>\n",
       "      <td>76394</td>\n",
       "    </tr>\n",
       "    <tr>\n",
       "      <th>gearbox</th>\n",
       "      <td>260956</td>\n",
       "      <td>2</td>\n",
       "      <td>manuell</td>\n",
       "      <td>200059</td>\n",
       "    </tr>\n",
       "    <tr>\n",
       "      <th>model</th>\n",
       "      <td>260956</td>\n",
       "      <td>250</td>\n",
       "      <td>golf</td>\n",
       "      <td>20958</td>\n",
       "    </tr>\n",
       "    <tr>\n",
       "      <th>fuelType</th>\n",
       "      <td>260956</td>\n",
       "      <td>7</td>\n",
       "      <td>benzin</td>\n",
       "      <td>169242</td>\n",
       "    </tr>\n",
       "    <tr>\n",
       "      <th>brand</th>\n",
       "      <td>260956</td>\n",
       "      <td>39</td>\n",
       "      <td>volkswagen</td>\n",
       "      <td>54194</td>\n",
       "    </tr>\n",
       "    <tr>\n",
       "      <th>notRepairedDamage</th>\n",
       "      <td>260956</td>\n",
       "      <td>2</td>\n",
       "      <td>nein</td>\n",
       "      <td>232946</td>\n",
       "    </tr>\n",
       "    <tr>\n",
       "      <th>dateCreated</th>\n",
       "      <td>260956</td>\n",
       "      <td>107</td>\n",
       "      <td>2016-04-03 00:00:00</td>\n",
       "      <td>10319</td>\n",
       "    </tr>\n",
       "    <tr>\n",
       "      <th>lastSeen</th>\n",
       "      <td>260956</td>\n",
       "      <td>135866</td>\n",
       "      <td>2016-04-07 06:45:59</td>\n",
       "      <td>16</td>\n",
       "    </tr>\n",
       "  </tbody>\n",
       "</table>\n",
       "</div>"
      ],
      "text/plain": [
       "                    count  unique                  top    freq\n",
       "dateCrawled        260956  213628  2016-03-08 15:50:29       5\n",
       "name               260956  150361             BMW_318i     619\n",
       "seller             260956       2               privat  260954\n",
       "offerType          260956       2              Angebot  260952\n",
       "abtest             260956       2                 test  135518\n",
       "vehicleType        260956       8            limousine   76394\n",
       "gearbox            260956       2              manuell  200059\n",
       "model              260956     250                 golf   20958\n",
       "fuelType           260956       7               benzin  169242\n",
       "brand              260956      39           volkswagen   54194\n",
       "notRepairedDamage  260956       2                 nein  232946\n",
       "dateCreated        260956     107  2016-04-03 00:00:00   10319\n",
       "lastSeen           260956  135866  2016-04-07 06:45:59      16"
      ]
     },
     "execution_count": 11,
     "metadata": {},
     "output_type": "execute_result"
    }
   ],
   "source": [
    "df.describe(include='O').T"
   ]
  },
  {
   "cell_type": "code",
   "execution_count": 12,
   "id": "033acd66",
   "metadata": {},
   "outputs": [
    {
     "name": "stdout",
     "output_type": "stream",
     "text": [
      "<class 'pandas.core.frame.DataFrame'>\n",
      "Int64Index: 260956 entries, 3 to 371527\n",
      "Data columns (total 21 columns):\n",
      " #   Column               Non-Null Count   Dtype \n",
      "---  ------               --------------   ----- \n",
      " 0   index                260956 non-null  int64 \n",
      " 1   dateCrawled          260956 non-null  object\n",
      " 2   name                 260956 non-null  object\n",
      " 3   seller               260956 non-null  object\n",
      " 4   offerType            260956 non-null  object\n",
      " 5   price                260956 non-null  int64 \n",
      " 6   abtest               260956 non-null  object\n",
      " 7   vehicleType          260956 non-null  object\n",
      " 8   yearOfRegistration   260956 non-null  int64 \n",
      " 9   gearbox              260956 non-null  object\n",
      " 10  powerPS              260956 non-null  int64 \n",
      " 11  model                260956 non-null  object\n",
      " 12  kilometer            260956 non-null  int64 \n",
      " 13  monthOfRegistration  260956 non-null  int64 \n",
      " 14  fuelType             260956 non-null  object\n",
      " 15  brand                260956 non-null  object\n",
      " 16  notRepairedDamage    260956 non-null  object\n",
      " 17  dateCreated          260956 non-null  object\n",
      " 18  nrOfPictures         260956 non-null  int64 \n",
      " 19  postalCode           260956 non-null  int64 \n",
      " 20  lastSeen             260956 non-null  object\n",
      "dtypes: int64(8), object(13)\n",
      "memory usage: 43.8+ MB\n"
     ]
    }
   ],
   "source": [
    "df.info()"
   ]
  },
  {
   "cell_type": "code",
   "execution_count": 13,
   "id": "117c270a",
   "metadata": {},
   "outputs": [
    {
     "data": {
      "text/plain": [
       "benzin     169242\n",
       "diesel      86974\n",
       "lpg          3937\n",
       "cng           460\n",
       "hybrid        213\n",
       "andere         73\n",
       "elektro        57\n",
       "Name: fuelType, dtype: int64"
      ]
     },
     "execution_count": 13,
     "metadata": {},
     "output_type": "execute_result"
    }
   ],
   "source": [
    "df['fuelType'].value_counts()"
   ]
  },
  {
   "cell_type": "code",
   "execution_count": 14,
   "id": "7eb664d9",
   "metadata": {},
   "outputs": [
    {
     "data": {
      "text/plain": [
       "0    260956\n",
       "Name: nrOfPictures, dtype: int64"
      ]
     },
     "execution_count": 14,
     "metadata": {},
     "output_type": "execute_result"
    }
   ],
   "source": [
    "df['nrOfPictures'].value_counts()"
   ]
  },
  {
   "cell_type": "code",
   "execution_count": 15,
   "id": "e551bc57",
   "metadata": {},
   "outputs": [
    {
     "data": {
      "text/plain": [
       "3                                    GOLF_4_1_4__3TÜRER\n",
       "4                        Skoda_Fabia_1.4_TDI_PD_Classic\n",
       "5     BMW_316i___e36_Limousine___Bastlerfahrzeug__Ex...\n",
       "6                           Peugeot_206_CC_110_Platinum\n",
       "7                          VW_Derby_Bj_80__Scheunenfund\n",
       "10                                    Mazda_3_1.6_Sport\n",
       "11        Volkswagen_Passat_Variant_2.0_TDI_Comfortline\n",
       "14    Nissan_Navara_2.5DPF_SE4x4_Klima_Sitzheizg_Blu...\n",
       "17                          Renault_Twingo_1.2_16V_Aut.\n",
       "18                     Ford_C_MAX_2.0_TDCi_DPF_Titanium\n",
       "Name: name, dtype: object"
      ]
     },
     "execution_count": 15,
     "metadata": {},
     "output_type": "execute_result"
    }
   ],
   "source": [
    "df['name'].head(10)"
   ]
  },
  {
   "cell_type": "markdown",
   "id": "6d2c4db5",
   "metadata": {},
   "source": [
    "### Removing harmful data\n",
    "_after checking i'm removing all columns that are either filled with data that aren't organised or collumns that only have one dominating unique object_"
   ]
  },
  {
   "cell_type": "markdown",
   "id": "c4044735",
   "metadata": {},
   "source": [
    "### DateTime data conversion\n",
    "_Changing date time columns to datatime type then exctracting the year as it's what matter on these columns and truning them back to type int_"
   ]
  },
  {
   "cell_type": "code",
   "execution_count": 16,
   "id": "1f41f033",
   "metadata": {},
   "outputs": [
    {
     "name": "stderr",
     "output_type": "stream",
     "text": [
      "C:\\Users\\del10\\AppData\\Local\\Temp\\ipykernel_24572\\1977305421.py:1: FutureWarning: In a future version of pandas all arguments of DataFrame.drop except for the argument 'labels' will be keyword-only.\n",
      "  df= df.drop('index',1)\n",
      "C:\\Users\\del10\\AppData\\Local\\Temp\\ipykernel_24572\\1977305421.py:2: FutureWarning: In a future version of pandas all arguments of DataFrame.drop except for the argument 'labels' will be keyword-only.\n",
      "  df= df.drop('nrOfPictures',1)\n",
      "C:\\Users\\del10\\AppData\\Local\\Temp\\ipykernel_24572\\1977305421.py:3: FutureWarning: In a future version of pandas all arguments of DataFrame.drop except for the argument 'labels' will be keyword-only.\n",
      "  df= df.drop('name',1)\n",
      "C:\\Users\\del10\\AppData\\Local\\Temp\\ipykernel_24572\\1977305421.py:4: FutureWarning: In a future version of pandas all arguments of DataFrame.drop except for the argument 'labels' will be keyword-only.\n",
      "  df= df.drop('seller',1)\n"
     ]
    }
   ],
   "source": [
    "df= df.drop('index',1)\n",
    "df= df.drop('nrOfPictures',1)\n",
    "df= df.drop('name',1)\n",
    "df= df.drop('seller',1)\n",
    "df['dateCrawled'] = pd.to_datetime(df['dateCrawled'],format='%Y-%m-%d')\n",
    "df['lastSeen'] = pd.to_datetime(df['lastSeen'],format='%Y-%m-%d')\n",
    "df['dateCreated'] = pd.to_datetime(df['dateCreated'],format='%Y-%m-%d')"
   ]
  },
  {
   "cell_type": "code",
   "execution_count": 17,
   "id": "d12a1e52",
   "metadata": {},
   "outputs": [
    {
     "name": "stdout",
     "output_type": "stream",
     "text": [
      "<class 'pandas.core.frame.DataFrame'>\n",
      "Int64Index: 260956 entries, 3 to 371527\n",
      "Data columns (total 17 columns):\n",
      " #   Column               Non-Null Count   Dtype         \n",
      "---  ------               --------------   -----         \n",
      " 0   dateCrawled          260956 non-null  datetime64[ns]\n",
      " 1   offerType            260956 non-null  object        \n",
      " 2   price                260956 non-null  int64         \n",
      " 3   abtest               260956 non-null  object        \n",
      " 4   vehicleType          260956 non-null  object        \n",
      " 5   yearOfRegistration   260956 non-null  int64         \n",
      " 6   gearbox              260956 non-null  object        \n",
      " 7   powerPS              260956 non-null  int64         \n",
      " 8   model                260956 non-null  object        \n",
      " 9   kilometer            260956 non-null  int64         \n",
      " 10  monthOfRegistration  260956 non-null  int64         \n",
      " 11  fuelType             260956 non-null  object        \n",
      " 12  brand                260956 non-null  object        \n",
      " 13  notRepairedDamage    260956 non-null  object        \n",
      " 14  dateCreated          260956 non-null  datetime64[ns]\n",
      " 15  postalCode           260956 non-null  int64         \n",
      " 16  lastSeen             260956 non-null  datetime64[ns]\n",
      "dtypes: datetime64[ns](3), int64(6), object(8)\n",
      "memory usage: 35.8+ MB\n"
     ]
    }
   ],
   "source": [
    "df.info()"
   ]
  },
  {
   "cell_type": "code",
   "execution_count": 18,
   "id": "aa92a44b",
   "metadata": {},
   "outputs": [],
   "source": [
    "df['dateCrawled']=df.dateCrawled.dt.strftime('%Y')\n",
    "df['dateCreated']=df.dateCreated.dt.strftime('%Y')\n",
    "df['lastSeen']=df.lastSeen.dt.strftime('%Y')\n",
    "df['lastSeen']=df['lastSeen'].astype(int)\n",
    "df['dateCreated']=df['dateCreated'].astype(int)\n",
    "df['dateCrawled']=df['dateCrawled'].astype(int)"
   ]
  },
  {
   "cell_type": "code",
   "execution_count": 19,
   "id": "961e7e37",
   "metadata": {},
   "outputs": [
    {
     "data": {
      "text/html": [
       "<div>\n",
       "<style scoped>\n",
       "    .dataframe tbody tr th:only-of-type {\n",
       "        vertical-align: middle;\n",
       "    }\n",
       "\n",
       "    .dataframe tbody tr th {\n",
       "        vertical-align: top;\n",
       "    }\n",
       "\n",
       "    .dataframe thead th {\n",
       "        text-align: right;\n",
       "    }\n",
       "</style>\n",
       "<table border=\"1\" class=\"dataframe\">\n",
       "  <thead>\n",
       "    <tr style=\"text-align: right;\">\n",
       "      <th></th>\n",
       "      <th>dateCrawled</th>\n",
       "      <th>offerType</th>\n",
       "      <th>price</th>\n",
       "      <th>abtest</th>\n",
       "      <th>vehicleType</th>\n",
       "      <th>yearOfRegistration</th>\n",
       "      <th>gearbox</th>\n",
       "      <th>powerPS</th>\n",
       "      <th>model</th>\n",
       "      <th>kilometer</th>\n",
       "      <th>monthOfRegistration</th>\n",
       "      <th>fuelType</th>\n",
       "      <th>brand</th>\n",
       "      <th>notRepairedDamage</th>\n",
       "      <th>dateCreated</th>\n",
       "      <th>postalCode</th>\n",
       "      <th>lastSeen</th>\n",
       "    </tr>\n",
       "  </thead>\n",
       "  <tbody>\n",
       "    <tr>\n",
       "      <th>3</th>\n",
       "      <td>2016</td>\n",
       "      <td>Angebot</td>\n",
       "      <td>1500</td>\n",
       "      <td>test</td>\n",
       "      <td>kleinwagen</td>\n",
       "      <td>2001</td>\n",
       "      <td>manuell</td>\n",
       "      <td>75</td>\n",
       "      <td>golf</td>\n",
       "      <td>150000</td>\n",
       "      <td>6</td>\n",
       "      <td>benzin</td>\n",
       "      <td>volkswagen</td>\n",
       "      <td>nein</td>\n",
       "      <td>2016</td>\n",
       "      <td>91074</td>\n",
       "      <td>2016</td>\n",
       "    </tr>\n",
       "    <tr>\n",
       "      <th>4</th>\n",
       "      <td>2016</td>\n",
       "      <td>Angebot</td>\n",
       "      <td>3600</td>\n",
       "      <td>test</td>\n",
       "      <td>kleinwagen</td>\n",
       "      <td>2008</td>\n",
       "      <td>manuell</td>\n",
       "      <td>69</td>\n",
       "      <td>fabia</td>\n",
       "      <td>90000</td>\n",
       "      <td>7</td>\n",
       "      <td>diesel</td>\n",
       "      <td>skoda</td>\n",
       "      <td>nein</td>\n",
       "      <td>2016</td>\n",
       "      <td>60437</td>\n",
       "      <td>2016</td>\n",
       "    </tr>\n",
       "    <tr>\n",
       "      <th>5</th>\n",
       "      <td>2016</td>\n",
       "      <td>Angebot</td>\n",
       "      <td>650</td>\n",
       "      <td>test</td>\n",
       "      <td>limousine</td>\n",
       "      <td>1995</td>\n",
       "      <td>manuell</td>\n",
       "      <td>102</td>\n",
       "      <td>3er</td>\n",
       "      <td>150000</td>\n",
       "      <td>10</td>\n",
       "      <td>benzin</td>\n",
       "      <td>bmw</td>\n",
       "      <td>ja</td>\n",
       "      <td>2016</td>\n",
       "      <td>33775</td>\n",
       "      <td>2016</td>\n",
       "    </tr>\n",
       "    <tr>\n",
       "      <th>6</th>\n",
       "      <td>2016</td>\n",
       "      <td>Angebot</td>\n",
       "      <td>2200</td>\n",
       "      <td>test</td>\n",
       "      <td>cabrio</td>\n",
       "      <td>2004</td>\n",
       "      <td>manuell</td>\n",
       "      <td>109</td>\n",
       "      <td>2_reihe</td>\n",
       "      <td>150000</td>\n",
       "      <td>8</td>\n",
       "      <td>benzin</td>\n",
       "      <td>peugeot</td>\n",
       "      <td>nein</td>\n",
       "      <td>2016</td>\n",
       "      <td>67112</td>\n",
       "      <td>2016</td>\n",
       "    </tr>\n",
       "    <tr>\n",
       "      <th>7</th>\n",
       "      <td>2016</td>\n",
       "      <td>Angebot</td>\n",
       "      <td>0</td>\n",
       "      <td>test</td>\n",
       "      <td>limousine</td>\n",
       "      <td>1980</td>\n",
       "      <td>manuell</td>\n",
       "      <td>50</td>\n",
       "      <td>andere</td>\n",
       "      <td>40000</td>\n",
       "      <td>7</td>\n",
       "      <td>benzin</td>\n",
       "      <td>volkswagen</td>\n",
       "      <td>nein</td>\n",
       "      <td>2016</td>\n",
       "      <td>19348</td>\n",
       "      <td>2016</td>\n",
       "    </tr>\n",
       "  </tbody>\n",
       "</table>\n",
       "</div>"
      ],
      "text/plain": [
       "   dateCrawled offerType  price abtest vehicleType  yearOfRegistration  \\\n",
       "3         2016   Angebot   1500   test  kleinwagen                2001   \n",
       "4         2016   Angebot   3600   test  kleinwagen                2008   \n",
       "5         2016   Angebot    650   test   limousine                1995   \n",
       "6         2016   Angebot   2200   test      cabrio                2004   \n",
       "7         2016   Angebot      0   test   limousine                1980   \n",
       "\n",
       "   gearbox  powerPS    model  kilometer  monthOfRegistration fuelType  \\\n",
       "3  manuell       75     golf     150000                    6   benzin   \n",
       "4  manuell       69    fabia      90000                    7   diesel   \n",
       "5  manuell      102      3er     150000                   10   benzin   \n",
       "6  manuell      109  2_reihe     150000                    8   benzin   \n",
       "7  manuell       50   andere      40000                    7   benzin   \n",
       "\n",
       "        brand notRepairedDamage  dateCreated  postalCode  lastSeen  \n",
       "3  volkswagen              nein         2016       91074      2016  \n",
       "4       skoda              nein         2016       60437      2016  \n",
       "5         bmw                ja         2016       33775      2016  \n",
       "6     peugeot              nein         2016       67112      2016  \n",
       "7  volkswagen              nein         2016       19348      2016  "
      ]
     },
     "execution_count": 19,
     "metadata": {},
     "output_type": "execute_result"
    }
   ],
   "source": [
    "df.head()"
   ]
  },
  {
   "cell_type": "markdown",
   "id": "732007a0",
   "metadata": {},
   "source": [
    "### Outliers investigation\n",
    "_checking the columns that showed signs of outliers when i checked the data description_"
   ]
  },
  {
   "cell_type": "code",
   "execution_count": 38,
   "id": "bdf7975c",
   "metadata": {},
   "outputs": [
    {
     "data": {
      "image/png": "[encoded data removed]",
      "text/plain": [
       "<Figure size 1500x900 with 1 Axes>"
      ]
     },
     "metadata": {},
     "output_type": "display_data"
    }
   ],
   "source": [
    "sns.boxplot(x='price',data=df);"
   ]
  },
  {
   "cell_type": "code",
   "execution_count": 39,
   "id": "ee65b72e",
   "metadata": {},
   "outputs": [
    {
     "data": {
      "image/png": "[encoded data removed]",
      "text/plain": [
       "<Figure size 1500x900 with 1 Axes>"
      ]
     },
     "metadata": {},
     "output_type": "display_data"
    }
   ],
   "source": [
    "sns.boxplot(x='powerPS',data=df);"
   ]
  },
  {
   "cell_type": "markdown",
   "id": "52d1d0b7",
   "metadata": {},
   "source": [
    "### Outliers Handling\n",
    "_after seeing that we have outliers issues, I'm gonna handle it by using IQR method as I cant scale the target column_"
   ]
  },
  {
   "cell_type": "code",
   "execution_count": 22,
   "id": "f8ad2a0c",
   "metadata": {},
   "outputs": [
    {
     "name": "stderr",
     "output_type": "stream",
     "text": [
      "C:\\Users\\del10\\AppData\\Local\\Temp\\ipykernel_24572\\1134722465.py:1: FutureWarning: The default value of numeric_only in DataFrame.corr is deprecated. In a future version, it will default to False. Select only valid columns or specify the value of numeric_only to silence this warning.\n",
      "  df.corr()\n"
     ]
    },
    {
     "data": {
      "text/html": [
       "<div>\n",
       "<style scoped>\n",
       "    .dataframe tbody tr th:only-of-type {\n",
       "        vertical-align: middle;\n",
       "    }\n",
       "\n",
       "    .dataframe tbody tr th {\n",
       "        vertical-align: top;\n",
       "    }\n",
       "\n",
       "    .dataframe thead th {\n",
       "        text-align: right;\n",
       "    }\n",
       "</style>\n",
       "<table border=\"1\" class=\"dataframe\">\n",
       "  <thead>\n",
       "    <tr style=\"text-align: right;\">\n",
       "      <th></th>\n",
       "      <th>dateCrawled</th>\n",
       "      <th>price</th>\n",
       "      <th>yearOfRegistration</th>\n",
       "      <th>powerPS</th>\n",
       "      <th>kilometer</th>\n",
       "      <th>monthOfRegistration</th>\n",
       "      <th>dateCreated</th>\n",
       "      <th>postalCode</th>\n",
       "      <th>lastSeen</th>\n",
       "    </tr>\n",
       "  </thead>\n",
       "  <tbody>\n",
       "    <tr>\n",
       "      <th>dateCrawled</th>\n",
       "      <td>NaN</td>\n",
       "      <td>NaN</td>\n",
       "      <td>NaN</td>\n",
       "      <td>NaN</td>\n",
       "      <td>NaN</td>\n",
       "      <td>NaN</td>\n",
       "      <td>NaN</td>\n",
       "      <td>NaN</td>\n",
       "      <td>NaN</td>\n",
       "    </tr>\n",
       "    <tr>\n",
       "      <th>price</th>\n",
       "      <td>NaN</td>\n",
       "      <td>1.000000</td>\n",
       "      <td>0.010434</td>\n",
       "      <td>0.008640</td>\n",
       "      <td>-0.013932</td>\n",
       "      <td>0.004747</td>\n",
       "      <td>-0.000055</td>\n",
       "      <td>0.001311</td>\n",
       "      <td>NaN</td>\n",
       "    </tr>\n",
       "    <tr>\n",
       "      <th>yearOfRegistration</th>\n",
       "      <td>NaN</td>\n",
       "      <td>0.010434</td>\n",
       "      <td>1.000000</td>\n",
       "      <td>0.102431</td>\n",
       "      <td>-0.395198</td>\n",
       "      <td>0.033529</td>\n",
       "      <td>-0.004085</td>\n",
       "      <td>0.046489</td>\n",
       "      <td>NaN</td>\n",
       "    </tr>\n",
       "    <tr>\n",
       "      <th>powerPS</th>\n",
       "      <td>NaN</td>\n",
       "      <td>0.008640</td>\n",
       "      <td>0.102431</td>\n",
       "      <td>1.000000</td>\n",
       "      <td>-0.016951</td>\n",
       "      <td>0.015070</td>\n",
       "      <td>-0.000358</td>\n",
       "      <td>0.026808</td>\n",
       "      <td>NaN</td>\n",
       "    </tr>\n",
       "    <tr>\n",
       "      <th>kilometer</th>\n",
       "      <td>NaN</td>\n",
       "      <td>-0.013932</td>\n",
       "      <td>-0.395198</td>\n",
       "      <td>-0.016951</td>\n",
       "      <td>1.000000</td>\n",
       "      <td>-0.006263</td>\n",
       "      <td>0.005891</td>\n",
       "      <td>-0.032874</td>\n",
       "      <td>NaN</td>\n",
       "    </tr>\n",
       "    <tr>\n",
       "      <th>monthOfRegistration</th>\n",
       "      <td>NaN</td>\n",
       "      <td>0.004747</td>\n",
       "      <td>0.033529</td>\n",
       "      <td>0.015070</td>\n",
       "      <td>-0.006263</td>\n",
       "      <td>1.000000</td>\n",
       "      <td>0.002116</td>\n",
       "      <td>0.004023</td>\n",
       "      <td>NaN</td>\n",
       "    </tr>\n",
       "    <tr>\n",
       "      <th>dateCreated</th>\n",
       "      <td>NaN</td>\n",
       "      <td>-0.000055</td>\n",
       "      <td>-0.004085</td>\n",
       "      <td>-0.000358</td>\n",
       "      <td>0.005891</td>\n",
       "      <td>0.002116</td>\n",
       "      <td>1.000000</td>\n",
       "      <td>0.001620</td>\n",
       "      <td>NaN</td>\n",
       "    </tr>\n",
       "    <tr>\n",
       "      <th>postalCode</th>\n",
       "      <td>NaN</td>\n",
       "      <td>0.001311</td>\n",
       "      <td>0.046489</td>\n",
       "      <td>0.026808</td>\n",
       "      <td>-0.032874</td>\n",
       "      <td>0.004023</td>\n",
       "      <td>0.001620</td>\n",
       "      <td>1.000000</td>\n",
       "      <td>NaN</td>\n",
       "    </tr>\n",
       "    <tr>\n",
       "      <th>lastSeen</th>\n",
       "      <td>NaN</td>\n",
       "      <td>NaN</td>\n",
       "      <td>NaN</td>\n",
       "      <td>NaN</td>\n",
       "      <td>NaN</td>\n",
       "      <td>NaN</td>\n",
       "      <td>NaN</td>\n",
       "      <td>NaN</td>\n",
       "      <td>NaN</td>\n",
       "    </tr>\n",
       "  </tbody>\n",
       "</table>\n",
       "</div>"
      ],
      "text/plain": [
       "                     dateCrawled     price  yearOfRegistration   powerPS  \\\n",
       "dateCrawled                  NaN       NaN                 NaN       NaN   \n",
       "price                        NaN  1.000000            0.010434  0.008640   \n",
       "yearOfRegistration           NaN  0.010434            1.000000  0.102431   \n",
       "powerPS                      NaN  0.008640            0.102431  1.000000   \n",
       "kilometer                    NaN -0.013932           -0.395198 -0.016951   \n",
       "monthOfRegistration          NaN  0.004747            0.033529  0.015070   \n",
       "dateCreated                  NaN -0.000055           -0.004085 -0.000358   \n",
       "postalCode                   NaN  0.001311            0.046489  0.026808   \n",
       "lastSeen                     NaN       NaN                 NaN       NaN   \n",
       "\n",
       "                     kilometer  monthOfRegistration  dateCreated  postalCode  \\\n",
       "dateCrawled                NaN                  NaN          NaN         NaN   \n",
       "price                -0.013932             0.004747    -0.000055    0.001311   \n",
       "yearOfRegistration   -0.395198             0.033529    -0.004085    0.046489   \n",
       "powerPS              -0.016951             0.015070    -0.000358    0.026808   \n",
       "kilometer             1.000000            -0.006263     0.005891   -0.032874   \n",
       "monthOfRegistration  -0.006263             1.000000     0.002116    0.004023   \n",
       "dateCreated           0.005891             0.002116     1.000000    0.001620   \n",
       "postalCode           -0.032874             0.004023     0.001620    1.000000   \n",
       "lastSeen                   NaN                  NaN          NaN         NaN   \n",
       "\n",
       "                     lastSeen  \n",
       "dateCrawled               NaN  \n",
       "price                     NaN  \n",
       "yearOfRegistration        NaN  \n",
       "powerPS                   NaN  \n",
       "kilometer                 NaN  \n",
       "monthOfRegistration       NaN  \n",
       "dateCreated               NaN  \n",
       "postalCode                NaN  \n",
       "lastSeen                  NaN  "
      ]
     },
     "execution_count": 22,
     "metadata": {},
     "output_type": "execute_result"
    }
   ],
   "source": [
    "df.corr()"
   ]
  },
  {
   "cell_type": "code",
   "execution_count": 23,
   "id": "a3c708d1",
   "metadata": {},
   "outputs": [],
   "source": [
    "    Q1= df['powerPS'].quantile(0.25)\n",
    "    Q3= df['powerPS'].quantile(0.75)\n",
    "    IQR = Q3 - Q1\n",
    "    upper_bound = Q3 + 1.2 * IQR\n",
    "    lower_bound = Q1 - 1.2 * IQR\n",
    "    df=df.drop(df[(df['powerPS']>=upper_bound)].index)\n",
    "    df=df.drop(df[(df['powerPS']<=lower_bound)].index)"
   ]
  },
  {
   "cell_type": "code",
   "execution_count": 24,
   "id": "33df867a",
   "metadata": {},
   "outputs": [],
   "source": [
    "    Q1= df['price'].quantile(0.25)\n",
    "    Q3= df['price'].quantile(0.75)\n",
    "    IQR = Q3 - Q1\n",
    "    upper_bound = Q3 + 1.2 * IQR\n",
    "    lower_bound = Q1 - 1.2 * IQR\n",
    "    df=df.drop(df[(df['price']>=upper_bound)].index)\n",
    "    df=df.drop(df[(df['price']<=lower_bound)].index)"
   ]
  },
  {
   "cell_type": "code",
   "execution_count": 25,
   "id": "00dc83c4",
   "metadata": {},
   "outputs": [
    {
     "data": {
      "text/html": [
       "<div>\n",
       "<style scoped>\n",
       "    .dataframe tbody tr th:only-of-type {\n",
       "        vertical-align: middle;\n",
       "    }\n",
       "\n",
       "    .dataframe tbody tr th {\n",
       "        vertical-align: top;\n",
       "    }\n",
       "\n",
       "    .dataframe thead th {\n",
       "        text-align: right;\n",
       "    }\n",
       "</style>\n",
       "<table border=\"1\" class=\"dataframe\">\n",
       "  <thead>\n",
       "    <tr style=\"text-align: right;\">\n",
       "      <th></th>\n",
       "      <th>count</th>\n",
       "      <th>mean</th>\n",
       "      <th>std</th>\n",
       "      <th>min</th>\n",
       "      <th>25%</th>\n",
       "      <th>50%</th>\n",
       "      <th>75%</th>\n",
       "      <th>max</th>\n",
       "    </tr>\n",
       "  </thead>\n",
       "  <tbody>\n",
       "    <tr>\n",
       "      <th>dateCrawled</th>\n",
       "      <td>228422.0</td>\n",
       "      <td>2016.000000</td>\n",
       "      <td>0.000000</td>\n",
       "      <td>2016.0</td>\n",
       "      <td>2016.0</td>\n",
       "      <td>2016.0</td>\n",
       "      <td>2016.0</td>\n",
       "      <td>2016.0</td>\n",
       "    </tr>\n",
       "    <tr>\n",
       "      <th>price</th>\n",
       "      <td>228422.0</td>\n",
       "      <td>4382.177317</td>\n",
       "      <td>3789.746749</td>\n",
       "      <td>0.0</td>\n",
       "      <td>1390.0</td>\n",
       "      <td>3100.0</td>\n",
       "      <td>6500.0</td>\n",
       "      <td>15500.0</td>\n",
       "    </tr>\n",
       "    <tr>\n",
       "      <th>yearOfRegistration</th>\n",
       "      <td>228422.0</td>\n",
       "      <td>2002.589768</td>\n",
       "      <td>5.994791</td>\n",
       "      <td>1910.0</td>\n",
       "      <td>1999.0</td>\n",
       "      <td>2003.0</td>\n",
       "      <td>2007.0</td>\n",
       "      <td>2018.0</td>\n",
       "    </tr>\n",
       "    <tr>\n",
       "      <th>powerPS</th>\n",
       "      <td>228422.0</td>\n",
       "      <td>110.704656</td>\n",
       "      <td>48.450964</td>\n",
       "      <td>0.0</td>\n",
       "      <td>75.0</td>\n",
       "      <td>107.0</td>\n",
       "      <td>141.0</td>\n",
       "      <td>236.0</td>\n",
       "    </tr>\n",
       "    <tr>\n",
       "      <th>kilometer</th>\n",
       "      <td>228422.0</td>\n",
       "      <td>128975.536507</td>\n",
       "      <td>35684.881766</td>\n",
       "      <td>5000.0</td>\n",
       "      <td>125000.0</td>\n",
       "      <td>150000.0</td>\n",
       "      <td>150000.0</td>\n",
       "      <td>150000.0</td>\n",
       "    </tr>\n",
       "    <tr>\n",
       "      <th>monthOfRegistration</th>\n",
       "      <td>228422.0</td>\n",
       "      <td>6.164472</td>\n",
       "      <td>3.483214</td>\n",
       "      <td>0.0</td>\n",
       "      <td>3.0</td>\n",
       "      <td>6.0</td>\n",
       "      <td>9.0</td>\n",
       "      <td>12.0</td>\n",
       "    </tr>\n",
       "    <tr>\n",
       "      <th>dateCreated</th>\n",
       "      <td>228422.0</td>\n",
       "      <td>2015.999917</td>\n",
       "      <td>0.009120</td>\n",
       "      <td>2015.0</td>\n",
       "      <td>2016.0</td>\n",
       "      <td>2016.0</td>\n",
       "      <td>2016.0</td>\n",
       "      <td>2016.0</td>\n",
       "    </tr>\n",
       "    <tr>\n",
       "      <th>postalCode</th>\n",
       "      <td>228422.0</td>\n",
       "      <td>51279.981819</td>\n",
       "      <td>25819.055878</td>\n",
       "      <td>1067.0</td>\n",
       "      <td>30890.0</td>\n",
       "      <td>50667.0</td>\n",
       "      <td>72149.0</td>\n",
       "      <td>99998.0</td>\n",
       "    </tr>\n",
       "    <tr>\n",
       "      <th>lastSeen</th>\n",
       "      <td>228422.0</td>\n",
       "      <td>2016.000000</td>\n",
       "      <td>0.000000</td>\n",
       "      <td>2016.0</td>\n",
       "      <td>2016.0</td>\n",
       "      <td>2016.0</td>\n",
       "      <td>2016.0</td>\n",
       "      <td>2016.0</td>\n",
       "    </tr>\n",
       "  </tbody>\n",
       "</table>\n",
       "</div>"
      ],
      "text/plain": [
       "                        count           mean           std     min       25%  \\\n",
       "dateCrawled          228422.0    2016.000000      0.000000  2016.0    2016.0   \n",
       "price                228422.0    4382.177317   3789.746749     0.0    1390.0   \n",
       "yearOfRegistration   228422.0    2002.589768      5.994791  1910.0    1999.0   \n",
       "powerPS              228422.0     110.704656     48.450964     0.0      75.0   \n",
       "kilometer            228422.0  128975.536507  35684.881766  5000.0  125000.0   \n",
       "monthOfRegistration  228422.0       6.164472      3.483214     0.0       3.0   \n",
       "dateCreated          228422.0    2015.999917      0.009120  2015.0    2016.0   \n",
       "postalCode           228422.0   51279.981819  25819.055878  1067.0   30890.0   \n",
       "lastSeen             228422.0    2016.000000      0.000000  2016.0    2016.0   \n",
       "\n",
       "                          50%       75%       max  \n",
       "dateCrawled            2016.0    2016.0    2016.0  \n",
       "price                  3100.0    6500.0   15500.0  \n",
       "yearOfRegistration     2003.0    2007.0    2018.0  \n",
       "powerPS                 107.0     141.0     236.0  \n",
       "kilometer            150000.0  150000.0  150000.0  \n",
       "monthOfRegistration       6.0       9.0      12.0  \n",
       "dateCreated            2016.0    2016.0    2016.0  \n",
       "postalCode            50667.0   72149.0   99998.0  \n",
       "lastSeen               2016.0    2016.0    2016.0  "
      ]
     },
     "execution_count": 25,
     "metadata": {},
     "output_type": "execute_result"
    }
   ],
   "source": [
    "df.describe().T"
   ]
  },
  {
   "cell_type": "code",
   "execution_count": 43,
   "id": "1f3dd00f",
   "metadata": {},
   "outputs": [
    {
     "data": {
      "image/png": "[encoded data removed]",
      "text/plain": [
       "<Figure size 1500x900 with 2 Axes>"
      ]
     },
     "metadata": {},
     "output_type": "display_data"
    }
   ],
   "source": [
    "hm = sns.heatmap(data = df) \n",
    "plt.show()"
   ]
  },
  {
   "cell_type": "markdown",
   "id": "dd4d76e1",
   "metadata": {},
   "source": [
    "### Dropping colums with low correlation\n",
    "_droping columns that won't help with the prediction_"
   ]
  },
  {
   "cell_type": "code",
   "execution_count": 26,
   "id": "e0eb960b",
   "metadata": {},
   "outputs": [
    {
     "name": "stderr",
     "output_type": "stream",
     "text": [
      "C:\\Users\\del10\\AppData\\Local\\Temp\\ipykernel_24572\\1134722465.py:1: FutureWarning: The default value of numeric_only in DataFrame.corr is deprecated. In a future version, it will default to False. Select only valid columns or specify the value of numeric_only to silence this warning.\n",
      "  df.corr()\n"
     ]
    },
    {
     "data": {
      "text/html": [
       "<div>\n",
       "<style scoped>\n",
       "    .dataframe tbody tr th:only-of-type {\n",
       "        vertical-align: middle;\n",
       "    }\n",
       "\n",
       "    .dataframe tbody tr th {\n",
       "        vertical-align: top;\n",
       "    }\n",
       "\n",
       "    .dataframe thead th {\n",
       "        text-align: right;\n",
       "    }\n",
       "</style>\n",
       "<table border=\"1\" class=\"dataframe\">\n",
       "  <thead>\n",
       "    <tr style=\"text-align: right;\">\n",
       "      <th></th>\n",
       "      <th>dateCrawled</th>\n",
       "      <th>price</th>\n",
       "      <th>yearOfRegistration</th>\n",
       "      <th>powerPS</th>\n",
       "      <th>kilometer</th>\n",
       "      <th>monthOfRegistration</th>\n",
       "      <th>dateCreated</th>\n",
       "      <th>postalCode</th>\n",
       "      <th>lastSeen</th>\n",
       "    </tr>\n",
       "  </thead>\n",
       "  <tbody>\n",
       "    <tr>\n",
       "      <th>dateCrawled</th>\n",
       "      <td>NaN</td>\n",
       "      <td>NaN</td>\n",
       "      <td>NaN</td>\n",
       "      <td>NaN</td>\n",
       "      <td>NaN</td>\n",
       "      <td>NaN</td>\n",
       "      <td>NaN</td>\n",
       "      <td>NaN</td>\n",
       "      <td>NaN</td>\n",
       "    </tr>\n",
       "    <tr>\n",
       "      <th>price</th>\n",
       "      <td>NaN</td>\n",
       "      <td>1.000000</td>\n",
       "      <td>0.562579</td>\n",
       "      <td>0.434402</td>\n",
       "      <td>-0.369046</td>\n",
       "      <td>0.046805</td>\n",
       "      <td>-0.003398</td>\n",
       "      <td>0.061752</td>\n",
       "      <td>NaN</td>\n",
       "    </tr>\n",
       "    <tr>\n",
       "      <th>yearOfRegistration</th>\n",
       "      <td>NaN</td>\n",
       "      <td>0.562579</td>\n",
       "      <td>1.000000</td>\n",
       "      <td>0.163702</td>\n",
       "      <td>-0.323527</td>\n",
       "      <td>0.036212</td>\n",
       "      <td>-0.003267</td>\n",
       "      <td>0.032653</td>\n",
       "      <td>NaN</td>\n",
       "    </tr>\n",
       "    <tr>\n",
       "      <th>powerPS</th>\n",
       "      <td>NaN</td>\n",
       "      <td>0.434402</td>\n",
       "      <td>0.163702</td>\n",
       "      <td>1.000000</td>\n",
       "      <td>0.137041</td>\n",
       "      <td>0.044050</td>\n",
       "      <td>0.000034</td>\n",
       "      <td>0.069109</td>\n",
       "      <td>NaN</td>\n",
       "    </tr>\n",
       "    <tr>\n",
       "      <th>kilometer</th>\n",
       "      <td>NaN</td>\n",
       "      <td>-0.369046</td>\n",
       "      <td>-0.323527</td>\n",
       "      <td>0.137041</td>\n",
       "      <td>1.000000</td>\n",
       "      <td>-0.006632</td>\n",
       "      <td>0.004850</td>\n",
       "      <td>-0.006766</td>\n",
       "      <td>NaN</td>\n",
       "    </tr>\n",
       "    <tr>\n",
       "      <th>monthOfRegistration</th>\n",
       "      <td>NaN</td>\n",
       "      <td>0.046805</td>\n",
       "      <td>0.036212</td>\n",
       "      <td>0.044050</td>\n",
       "      <td>-0.006632</td>\n",
       "      <td>1.000000</td>\n",
       "      <td>0.003187</td>\n",
       "      <td>0.005411</td>\n",
       "      <td>NaN</td>\n",
       "    </tr>\n",
       "    <tr>\n",
       "      <th>dateCreated</th>\n",
       "      <td>NaN</td>\n",
       "      <td>-0.003398</td>\n",
       "      <td>-0.003267</td>\n",
       "      <td>0.000034</td>\n",
       "      <td>0.004850</td>\n",
       "      <td>0.003187</td>\n",
       "      <td>1.000000</td>\n",
       "      <td>0.002049</td>\n",
       "      <td>NaN</td>\n",
       "    </tr>\n",
       "    <tr>\n",
       "      <th>postalCode</th>\n",
       "      <td>NaN</td>\n",
       "      <td>0.061752</td>\n",
       "      <td>0.032653</td>\n",
       "      <td>0.069109</td>\n",
       "      <td>-0.006766</td>\n",
       "      <td>0.005411</td>\n",
       "      <td>0.002049</td>\n",
       "      <td>1.000000</td>\n",
       "      <td>NaN</td>\n",
       "    </tr>\n",
       "    <tr>\n",
       "      <th>lastSeen</th>\n",
       "      <td>NaN</td>\n",
       "      <td>NaN</td>\n",
       "      <td>NaN</td>\n",
       "      <td>NaN</td>\n",
       "      <td>NaN</td>\n",
       "      <td>NaN</td>\n",
       "      <td>NaN</td>\n",
       "      <td>NaN</td>\n",
       "      <td>NaN</td>\n",
       "    </tr>\n",
       "  </tbody>\n",
       "</table>\n",
       "</div>"
      ],
      "text/plain": [
       "                     dateCrawled     price  yearOfRegistration   powerPS  \\\n",
       "dateCrawled                  NaN       NaN                 NaN       NaN   \n",
       "price                        NaN  1.000000            0.562579  0.434402   \n",
       "yearOfRegistration           NaN  0.562579            1.000000  0.163702   \n",
       "powerPS                      NaN  0.434402            0.163702  1.000000   \n",
       "kilometer                    NaN -0.369046           -0.323527  0.137041   \n",
       "monthOfRegistration          NaN  0.046805            0.036212  0.044050   \n",
       "dateCreated                  NaN -0.003398           -0.003267  0.000034   \n",
       "postalCode                   NaN  0.061752            0.032653  0.069109   \n",
       "lastSeen                     NaN       NaN                 NaN       NaN   \n",
       "\n",
       "                     kilometer  monthOfRegistration  dateCreated  postalCode  \\\n",
       "dateCrawled                NaN                  NaN          NaN         NaN   \n",
       "price                -0.369046             0.046805    -0.003398    0.061752   \n",
       "yearOfRegistration   -0.323527             0.036212    -0.003267    0.032653   \n",
       "powerPS               0.137041             0.044050     0.000034    0.069109   \n",
       "kilometer             1.000000            -0.006632     0.004850   -0.006766   \n",
       "monthOfRegistration  -0.006632             1.000000     0.003187    0.005411   \n",
       "dateCreated           0.004850             0.003187     1.000000    0.002049   \n",
       "postalCode           -0.006766             0.005411     0.002049    1.000000   \n",
       "lastSeen                   NaN                  NaN          NaN         NaN   \n",
       "\n",
       "                     lastSeen  \n",
       "dateCrawled               NaN  \n",
       "price                     NaN  \n",
       "yearOfRegistration        NaN  \n",
       "powerPS                   NaN  \n",
       "kilometer                 NaN  \n",
       "monthOfRegistration       NaN  \n",
       "dateCreated               NaN  \n",
       "postalCode                NaN  \n",
       "lastSeen                  NaN  "
      ]
     },
     "execution_count": 26,
     "metadata": {},
     "output_type": "execute_result"
    }
   ],
   "source": [
    "df.corr()"
   ]
  },
  {
   "cell_type": "code",
   "execution_count": 27,
   "id": "5cc92ffc",
   "metadata": {},
   "outputs": [
    {
     "name": "stderr",
     "output_type": "stream",
     "text": [
      "C:\\Users\\del10\\AppData\\Local\\Temp\\ipykernel_24572\\509564426.py:1: FutureWarning: In a future version of pandas all arguments of DataFrame.drop except for the argument 'labels' will be keyword-only.\n",
      "  df= df.drop('monthOfRegistration',1)\n",
      "C:\\Users\\del10\\AppData\\Local\\Temp\\ipykernel_24572\\509564426.py:2: FutureWarning: In a future version of pandas all arguments of DataFrame.drop except for the argument 'labels' will be keyword-only.\n",
      "  df= df.drop('postalCode',1)\n"
     ]
    }
   ],
   "source": [
    "df= df.drop('monthOfRegistration',1)\n",
    "df= df.drop('postalCode',1)"
   ]
  },
  {
   "cell_type": "markdown",
   "id": "56b1e529",
   "metadata": {},
   "source": [
    "### Label Encoding\n",
    "_need to encode all the labels to use liniar regression model_"
   ]
  },
  {
   "cell_type": "code",
   "execution_count": 28,
   "id": "fe68b104",
   "metadata": {},
   "outputs": [],
   "source": [
    "le = LabelEncoder()\n",
    "df['offerType']=le.fit_transform(df['offerType'])\n",
    "df['vehicleType']=le.fit_transform(df['vehicleType'])\n",
    "df['gearbox']=le.fit_transform(df['gearbox'])\n",
    "df['model']=le.fit_transform(df['model'])\n",
    "df['fuelType']=le.fit_transform(df['fuelType'])\n",
    "df['fuelType']=le.fit_transform(df['fuelType'])\n",
    "df['brand']=le.fit_transform(df['brand'])\n",
    "df['notRepairedDamage']=le.fit_transform(df['notRepairedDamage'])\n",
    "df['abtest']=le.fit_transform(df['abtest'])"
   ]
  },
  {
   "cell_type": "code",
   "execution_count": 29,
   "id": "f0be75f4",
   "metadata": {},
   "outputs": [
    {
     "name": "stdout",
     "output_type": "stream",
     "text": [
      "<class 'pandas.core.frame.DataFrame'>\n",
      "Int64Index: 228422 entries, 3 to 371525\n",
      "Data columns (total 15 columns):\n",
      " #   Column              Non-Null Count   Dtype\n",
      "---  ------              --------------   -----\n",
      " 0   dateCrawled         228422 non-null  int32\n",
      " 1   offerType           228422 non-null  int32\n",
      " 2   price               228422 non-null  int64\n",
      " 3   abtest              228422 non-null  int32\n",
      " 4   vehicleType         228422 non-null  int32\n",
      " 5   yearOfRegistration  228422 non-null  int64\n",
      " 6   gearbox             228422 non-null  int32\n",
      " 7   powerPS             228422 non-null  int64\n",
      " 8   model               228422 non-null  int32\n",
      " 9   kilometer           228422 non-null  int64\n",
      " 10  fuelType            228422 non-null  int64\n",
      " 11  brand               228422 non-null  int32\n",
      " 12  notRepairedDamage   228422 non-null  int32\n",
      " 13  dateCreated         228422 non-null  int32\n",
      " 14  lastSeen            228422 non-null  int32\n",
      "dtypes: int32(10), int64(5)\n",
      "memory usage: 19.2 MB\n"
     ]
    }
   ],
   "source": [
    "df.info()"
   ]
  },
  {
   "cell_type": "markdown",
   "id": "3f58590b",
   "metadata": {},
   "source": [
    "### Data Spliting\n",
    "_spliting the data to inputs and Target, then spliting them with a ration off 75:25 for training and testing_"
   ]
  },
  {
   "cell_type": "code",
   "execution_count": 30,
   "id": "24a7d038",
   "metadata": {},
   "outputs": [
    {
     "name": "stderr",
     "output_type": "stream",
     "text": [
      "C:\\Users\\del10\\AppData\\Local\\Temp\\ipykernel_24572\\2222881566.py:1: FutureWarning: In a future version of pandas all arguments of DataFrame.drop except for the argument 'labels' will be keyword-only.\n",
      "  x=df.drop('price',1)\n"
     ]
    }
   ],
   "source": [
    "x=df.drop('price',1)\n",
    "y=df['price']"
   ]
  },
  {
   "cell_type": "code",
   "execution_count": 31,
   "id": "2fa7acc8",
   "metadata": {},
   "outputs": [
    {
     "data": {
      "text/plain": [
       "((171316, 14), (57106, 14), (171316,), (57106,))"
      ]
     },
     "execution_count": 31,
     "metadata": {},
     "output_type": "execute_result"
    }
   ],
   "source": [
    "X_train,X_test, y_train,y_test = train_test_split(x,y,test_size = 0.25,shuffle = True ,random_state = 300)\n",
    "X_train.shape,X_test.shape,y_train.shape,y_test.shape"
   ]
  },
  {
   "cell_type": "markdown",
   "id": "00da4ebd",
   "metadata": {},
   "source": [
    "### Performance function"
   ]
  },
  {
   "cell_type": "code",
   "execution_count": 32,
   "id": "49a2f887",
   "metadata": {},
   "outputs": [],
   "source": [
    "def performance(model,X_train,y_train,y_pred,y_test):\n",
    "    print('Training Score:',model.score(X_train,y_train))\n",
    "    print('Testing Score:',r2_score(y_test,y_pred))\n",
    "    print('Other Metrics In Testing Data: ')\n",
    "    print('MSE:',mean_squared_error(y_test,y_pred))\n",
    "    print('MAE:',mean_absolute_error(y_test,y_pred))"
   ]
  },
  {
   "cell_type": "markdown",
   "id": "80223884",
   "metadata": {},
   "source": [
    "### Liniar regression\n",
    "_model scores are very low, it seems it's not the model for this problem_"
   ]
  },
  {
   "cell_type": "code",
   "execution_count": 33,
   "id": "aff5ab59",
   "metadata": {},
   "outputs": [
    {
     "name": "stdout",
     "output_type": "stream",
     "text": [
      "Training Score: 0.5471166123060651\n",
      "Testing Score: 0.5494478535324563\n",
      "Other Metrics In Testing Data: \n",
      "MSE: 6437800.102368583\n",
      "MAE: 1851.405336424692\n"
     ]
    }
   ],
   "source": [
    "lr = LinearRegression()\n",
    "lr.fit(X_train,y_train)\n",
    "lr_pred = lr.predict(X_test)\n",
    "performance(lr,X_train,y_train,lr_pred,y_test)"
   ]
  },
  {
   "cell_type": "markdown",
   "id": "66484686",
   "metadata": {},
   "source": [
    "### Ridge model\n",
    "_Same results as Liniar model_"
   ]
  },
  {
   "cell_type": "code",
   "execution_count": 34,
   "id": "c1f1235f",
   "metadata": {},
   "outputs": [
    {
     "name": "stdout",
     "output_type": "stream",
     "text": [
      "Training Score: 0.5471160876591745\n",
      "Testing Score: 0.5494530130400644\n",
      "Other Metrics In Testing Data: \n",
      "MSE: 6437726.379762068\n",
      "MAE: 1851.3727113453367\n"
     ]
    }
   ],
   "source": [
    "ridge = Ridge(alpha = 1)\n",
    "ridge.fit(X_train,y_train)\n",
    "ridge_pred = ridge.predict(X_test)\n",
    "performance(ridge,X_train,y_train,ridge_pred,y_test)"
   ]
  },
  {
   "cell_type": "markdown",
   "id": "e8fc2d3b",
   "metadata": {},
   "source": [
    "### Decision Tree Model\n",
    "_The model seems to be overfitting but maybe with some hyperparamter tuning I can fix that_"
   ]
  },
  {
   "cell_type": "code",
   "execution_count": 35,
   "id": "a2812eff",
   "metadata": {},
   "outputs": [
    {
     "name": "stdout",
     "output_type": "stream",
     "text": [
      "Training Score: 0.9591007034398719\n",
      "Testing Score: 0.7921336301667876\n",
      "Other Metrics In Testing Data: \n",
      "MSE: 2970138.1904028733\n",
      "MAE: 1046.687083336806\n"
     ]
    }
   ],
   "source": [
    "dt = DecisionTreeRegressor()\n",
    "dt.fit(X_train,y_train)\n",
    "dt_pred = dt.predict(X_test)\n",
    "performance(dt,X_train,y_train,dt_pred,y_test)"
   ]
  },
  {
   "cell_type": "markdown",
   "id": "a777effc",
   "metadata": {},
   "source": [
    "### Random Forest\n",
    "_Model seems to be giving Decent Results with 85% accuracy on test_"
   ]
  },
  {
   "cell_type": "code",
   "execution_count": 36,
   "id": "5b3b4081",
   "metadata": {},
   "outputs": [
    {
     "name": "stdout",
     "output_type": "stream",
     "text": [
      "Training Score: 0.9478550560298822\n",
      "Testing Score: 0.8555757122749603\n",
      "Other Metrics In Testing Data: \n",
      "MSE: 2063633.9247087522\n",
      "MAE: 915.0746863796916\n"
     ]
    }
   ],
   "source": [
    "rf = RandomForestRegressor()\n",
    "rf.fit(X_train,y_train.values.ravel())\n",
    "rf_pred = rf.predict(X_test)\n",
    "performance(rf,X_train,y_train,rf_pred,y_test)"
   ]
  },
  {
   "cell_type": "markdown",
   "id": "21daaf5c",
   "metadata": {},
   "source": [
    "### Hyperparamters tuning\n",
    "_the results of the D_tree hyperparamters tuning using Random Search Cross Validation seems to be the same as the Random forest model but the problem of the overfitting is solved_"
   ]
  },
  {
   "cell_type": "code",
   "execution_count": 37,
   "id": "ea18cd02",
   "metadata": {},
   "outputs": [
    {
     "name": "stdout",
     "output_type": "stream",
     "text": [
      "Best Estimator: DecisionTreeRegressor(max_depth=17, min_samples_leaf=5, min_samples_split=5)\n",
      "Best Params: {'min_samples_split': 5, 'min_samples_leaf': 5, 'max_depth': 17}\n",
      "Training Score: 0.890024790362441\n",
      "Testing Score: 0.8316620725589442\n",
      "Other Metrics In Testing Data: \n",
      "MSE: 2405328.517485183\n",
      "MAE: 986.7895767191939\n"
     ]
    }
   ],
   "source": [
    "params = [{'max_depth':list(range(5,20)),'min_samples_split':list(range(2,15)),\"min_samples_leaf\":[2,3,4,5]}]\n",
    "dt_w_rand_search = RandomizedSearchCV(DecisionTreeRegressor(),params,cv=10,n_jobs=-1)\n",
    "dt_w_rand_search.fit(X_train,y_train)\n",
    "dt_rand_pred = dt_w_rand_search.predict(X_test)\n",
    "print('Best Estimator:',dt_w_rand_search.best_estimator_)\n",
    "print('Best Params:',dt_w_rand_search.best_params_)\n",
    "performance(dt_w_rand_search,X_train,y_train,dt_rand_pred,y_test)"
   ]
  },
  {
   "cell_type": "markdown",
   "id": "a40d39fe",
   "metadata": {},
   "source": [
    "# Conclusion\n",
    "\n",
    "After trying different models and hyperparamters tuning, the best model for such data is Random Forest Model with Accuracy of 85% on Test data"
   ]
  }
 ],
 "metadata": {
  "kernelspec": {
   "display_name": "Python 3 (ipykernel)",
   "language": "python",
   "name": "python3"
  },
  "language_info": {
   "codemirror_mode": {
    "name": "ipython",
    "version": 3
   },
   "file_extension": ".py",
   "mimetype": "text/x-python",
   "name": "python",
   "nbconvert_exporter": "python",
   "pygments_lexer": "ipython3",
   "version": "3.11.3"
  }
 },
 "nbformat": 4,
 "nbformat_minor": 5
}
